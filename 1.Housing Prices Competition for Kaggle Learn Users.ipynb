{
 "cells": [
  {
   "cell_type": "markdown",
   "metadata": {
    "id": "8e5TkwEjeTx2"
   },
   "source": [
    "Things I want to add to this model: \n",
    "\n",
    "* play more with hyperparameters \n",
    "* add / remove features based on feature engineering \n"
   ]
  },
  {
   "cell_type": "markdown",
   "metadata": {
    "id": "pZxSZtr2JPfR"
   },
   "source": [
    "# Housing Prices Competition for Kaggle Learn Users\n",
    "\n",
    "https://www.kaggle.com/c/home-data-for-ml-course/overview\n",
    "\n"
   ]
  },
  {
   "cell_type": "code",
   "execution_count": 15,
   "metadata": {
    "executionInfo": {
     "elapsed": 1684,
     "status": "ok",
     "timestamp": 1606232556586,
     "user": {
      "displayName": "George Ognyanov",
      "photoUrl": "https://lh3.googleusercontent.com/a-/AOh14GhH_pPA5BT-YZjKjvwBt48MYgD26ZC5xdv9PPY-mvg=s64",
      "userId": "12292690886225308336"
     },
     "user_tz": -120
    },
    "id": "KqzaEHgYJWP4"
   },
   "outputs": [],
   "source": [
    "import pandas as pd\n",
    "from sklearn.model_selection import train_test_split\n",
    "from sklearn.metrics import mean_absolute_error\n"
   ]
  },
  {
   "cell_type": "markdown",
   "metadata": {
    "id": "xuztrl1SYUnM"
   },
   "source": [
    "# Path of the file to read. "
   ]
  },
  {
   "cell_type": "code",
   "execution_count": 16,
   "metadata": {
    "colab": {
     "base_uri": "https://localhost:8080/",
     "height": 253
    },
    "executionInfo": {
     "elapsed": 1633,
     "status": "ok",
     "timestamp": 1606232556593,
     "user": {
      "displayName": "George Ognyanov",
      "photoUrl": "https://lh3.googleusercontent.com/a-/AOh14GhH_pPA5BT-YZjKjvwBt48MYgD26ZC5xdv9PPY-mvg=s64",
      "userId": "12292690886225308336"
     },
     "user_tz": -120
    },
    "id": "jrarm9CcOyQl",
    "outputId": "ee257af2-2913-4e92-fec5-603fd86b76b9"
   },
   "outputs": [
    {
     "data": {
      "text/html": [
       "<div>\n",
       "<style scoped>\n",
       "    .dataframe tbody tr th:only-of-type {\n",
       "        vertical-align: middle;\n",
       "    }\n",
       "\n",
       "    .dataframe tbody tr th {\n",
       "        vertical-align: top;\n",
       "    }\n",
       "\n",
       "    .dataframe thead th {\n",
       "        text-align: right;\n",
       "    }\n",
       "</style>\n",
       "<table border=\"1\" class=\"dataframe\">\n",
       "  <thead>\n",
       "    <tr style=\"text-align: right;\">\n",
       "      <th></th>\n",
       "      <th>Id</th>\n",
       "      <th>MSSubClass</th>\n",
       "      <th>MSZoning</th>\n",
       "      <th>LotFrontage</th>\n",
       "      <th>LotArea</th>\n",
       "      <th>Street</th>\n",
       "      <th>Alley</th>\n",
       "      <th>LotShape</th>\n",
       "      <th>LandContour</th>\n",
       "      <th>Utilities</th>\n",
       "      <th>...</th>\n",
       "      <th>PoolArea</th>\n",
       "      <th>PoolQC</th>\n",
       "      <th>Fence</th>\n",
       "      <th>MiscFeature</th>\n",
       "      <th>MiscVal</th>\n",
       "      <th>MoSold</th>\n",
       "      <th>YrSold</th>\n",
       "      <th>SaleType</th>\n",
       "      <th>SaleCondition</th>\n",
       "      <th>SalePrice</th>\n",
       "    </tr>\n",
       "  </thead>\n",
       "  <tbody>\n",
       "    <tr>\n",
       "      <th>0</th>\n",
       "      <td>1</td>\n",
       "      <td>60</td>\n",
       "      <td>RL</td>\n",
       "      <td>65.0</td>\n",
       "      <td>8450</td>\n",
       "      <td>Pave</td>\n",
       "      <td>NaN</td>\n",
       "      <td>Reg</td>\n",
       "      <td>Lvl</td>\n",
       "      <td>AllPub</td>\n",
       "      <td>...</td>\n",
       "      <td>0</td>\n",
       "      <td>NaN</td>\n",
       "      <td>NaN</td>\n",
       "      <td>NaN</td>\n",
       "      <td>0</td>\n",
       "      <td>2</td>\n",
       "      <td>2008</td>\n",
       "      <td>WD</td>\n",
       "      <td>Normal</td>\n",
       "      <td>208500</td>\n",
       "    </tr>\n",
       "    <tr>\n",
       "      <th>1</th>\n",
       "      <td>2</td>\n",
       "      <td>20</td>\n",
       "      <td>RL</td>\n",
       "      <td>80.0</td>\n",
       "      <td>9600</td>\n",
       "      <td>Pave</td>\n",
       "      <td>NaN</td>\n",
       "      <td>Reg</td>\n",
       "      <td>Lvl</td>\n",
       "      <td>AllPub</td>\n",
       "      <td>...</td>\n",
       "      <td>0</td>\n",
       "      <td>NaN</td>\n",
       "      <td>NaN</td>\n",
       "      <td>NaN</td>\n",
       "      <td>0</td>\n",
       "      <td>5</td>\n",
       "      <td>2007</td>\n",
       "      <td>WD</td>\n",
       "      <td>Normal</td>\n",
       "      <td>181500</td>\n",
       "    </tr>\n",
       "    <tr>\n",
       "      <th>2</th>\n",
       "      <td>3</td>\n",
       "      <td>60</td>\n",
       "      <td>RL</td>\n",
       "      <td>68.0</td>\n",
       "      <td>11250</td>\n",
       "      <td>Pave</td>\n",
       "      <td>NaN</td>\n",
       "      <td>IR1</td>\n",
       "      <td>Lvl</td>\n",
       "      <td>AllPub</td>\n",
       "      <td>...</td>\n",
       "      <td>0</td>\n",
       "      <td>NaN</td>\n",
       "      <td>NaN</td>\n",
       "      <td>NaN</td>\n",
       "      <td>0</td>\n",
       "      <td>9</td>\n",
       "      <td>2008</td>\n",
       "      <td>WD</td>\n",
       "      <td>Normal</td>\n",
       "      <td>223500</td>\n",
       "    </tr>\n",
       "    <tr>\n",
       "      <th>3</th>\n",
       "      <td>4</td>\n",
       "      <td>70</td>\n",
       "      <td>RL</td>\n",
       "      <td>60.0</td>\n",
       "      <td>9550</td>\n",
       "      <td>Pave</td>\n",
       "      <td>NaN</td>\n",
       "      <td>IR1</td>\n",
       "      <td>Lvl</td>\n",
       "      <td>AllPub</td>\n",
       "      <td>...</td>\n",
       "      <td>0</td>\n",
       "      <td>NaN</td>\n",
       "      <td>NaN</td>\n",
       "      <td>NaN</td>\n",
       "      <td>0</td>\n",
       "      <td>2</td>\n",
       "      <td>2006</td>\n",
       "      <td>WD</td>\n",
       "      <td>Abnorml</td>\n",
       "      <td>140000</td>\n",
       "    </tr>\n",
       "    <tr>\n",
       "      <th>4</th>\n",
       "      <td>5</td>\n",
       "      <td>60</td>\n",
       "      <td>RL</td>\n",
       "      <td>84.0</td>\n",
       "      <td>14260</td>\n",
       "      <td>Pave</td>\n",
       "      <td>NaN</td>\n",
       "      <td>IR1</td>\n",
       "      <td>Lvl</td>\n",
       "      <td>AllPub</td>\n",
       "      <td>...</td>\n",
       "      <td>0</td>\n",
       "      <td>NaN</td>\n",
       "      <td>NaN</td>\n",
       "      <td>NaN</td>\n",
       "      <td>0</td>\n",
       "      <td>12</td>\n",
       "      <td>2008</td>\n",
       "      <td>WD</td>\n",
       "      <td>Normal</td>\n",
       "      <td>250000</td>\n",
       "    </tr>\n",
       "  </tbody>\n",
       "</table>\n",
       "<p>5 rows × 81 columns</p>\n",
       "</div>"
      ],
      "text/plain": [
       "   Id  MSSubClass MSZoning  LotFrontage  LotArea Street Alley LotShape  \\\n",
       "0   1          60       RL         65.0     8450   Pave   NaN      Reg   \n",
       "1   2          20       RL         80.0     9600   Pave   NaN      Reg   \n",
       "2   3          60       RL         68.0    11250   Pave   NaN      IR1   \n",
       "3   4          70       RL         60.0     9550   Pave   NaN      IR1   \n",
       "4   5          60       RL         84.0    14260   Pave   NaN      IR1   \n",
       "\n",
       "  LandContour Utilities  ... PoolArea PoolQC Fence MiscFeature MiscVal MoSold  \\\n",
       "0         Lvl    AllPub  ...        0    NaN   NaN         NaN       0      2   \n",
       "1         Lvl    AllPub  ...        0    NaN   NaN         NaN       0      5   \n",
       "2         Lvl    AllPub  ...        0    NaN   NaN         NaN       0      9   \n",
       "3         Lvl    AllPub  ...        0    NaN   NaN         NaN       0      2   \n",
       "4         Lvl    AllPub  ...        0    NaN   NaN         NaN       0     12   \n",
       "\n",
       "  YrSold  SaleType  SaleCondition  SalePrice  \n",
       "0   2008        WD         Normal     208500  \n",
       "1   2007        WD         Normal     181500  \n",
       "2   2008        WD         Normal     223500  \n",
       "3   2006        WD        Abnorml     140000  \n",
       "4   2008        WD         Normal     250000  \n",
       "\n",
       "[5 rows x 81 columns]"
      ]
     },
     "execution_count": 16,
     "metadata": {},
     "output_type": "execute_result"
    }
   ],
   "source": [
    "iowa_file_path = '/home/ubuntu/pCloudDrive/18.Kaggle microcourses/00.Kaggle micro-courses/07.Intro to Machine Learning/01.Kaggle Playground Competition: Housing Prices/home-data-for-ml-course/train.csv'\n",
    "home_data = pd.read_csv(iowa_file_path)\n",
    "home_data.head()"
   ]
  },
  {
   "cell_type": "markdown",
   "metadata": {
    "id": "boHv22ezYkTi"
   },
   "source": [
    "# Creating y and X "
   ]
  },
  {
   "cell_type": "code",
   "execution_count": 17,
   "metadata": {
    "executionInfo": {
     "elapsed": 1633,
     "status": "ok",
     "timestamp": 1606232556596,
     "user": {
      "displayName": "George Ognyanov",
      "photoUrl": "https://lh3.googleusercontent.com/a-/AOh14GhH_pPA5BT-YZjKjvwBt48MYgD26ZC5xdv9PPY-mvg=s64",
      "userId": "12292690886225308336"
     },
     "user_tz": -120
    },
    "id": "H_okoig2PF40"
   },
   "outputs": [],
   "source": [
    "# Create y\n",
    "y = home_data.SalePrice\n",
    "# Create X\n",
    "features = ['LotArea', 'YearBuilt', '1stFlrSF', '2ndFlrSF', 'FullBath', 'BedroomAbvGr', 'TotRmsAbvGrd']\n",
    "X = home_data[features]"
   ]
  },
  {
   "cell_type": "markdown",
   "metadata": {
    "id": "fQW3CS7UYwK9"
   },
   "source": [
    "# Split into validation and training data - **val_y**\n"
   ]
  },
  {
   "cell_type": "code",
   "execution_count": 18,
   "metadata": {
    "executionInfo": {
     "elapsed": 1631,
     "status": "ok",
     "timestamp": 1606232556597,
     "user": {
      "displayName": "George Ognyanov",
      "photoUrl": "https://lh3.googleusercontent.com/a-/AOh14GhH_pPA5BT-YZjKjvwBt48MYgD26ZC5xdv9PPY-mvg=s64",
      "userId": "12292690886225308336"
     },
     "user_tz": -120
    },
    "id": "Z7vl0J3YPZus"
   },
   "outputs": [],
   "source": [
    "train_X, val_X, train_y, val_y = train_test_split(X, y, random_state=1)"
   ]
  },
  {
   "cell_type": "markdown",
   "metadata": {
    "id": "LMqRJwenY3hx"
   },
   "source": [
    "# Try with Multiple Linear Regression and test against val_y"
   ]
  },
  {
   "cell_type": "code",
   "execution_count": 19,
   "metadata": {
    "colab": {
     "base_uri": "https://localhost:8080/"
    },
    "executionInfo": {
     "elapsed": 1623,
     "status": "ok",
     "timestamp": 1606232556598,
     "user": {
      "displayName": "George Ognyanov",
      "photoUrl": "https://lh3.googleusercontent.com/a-/AOh14GhH_pPA5BT-YZjKjvwBt48MYgD26ZC5xdv9PPY-mvg=s64",
      "userId": "12292690886225308336"
     },
     "user_tz": -120
    },
    "id": "Qg0-PomoLbTx",
    "outputId": "e17622c7-6765-48a9-9c28-699fa1af2982"
   },
   "outputs": [
    {
     "name": "stdout",
     "output_type": "stream",
     "text": [
      "Validation MAE for Multiple LinearRegression: 27,229\n"
     ]
    }
   ],
   "source": [
    "from sklearn.linear_model import LinearRegression\n",
    "\n",
    "# Specify Model Multiple Linear Regression\n",
    "iowa_model = LinearRegression()\n",
    "# Fit Model\n",
    "iowa_model.fit(train_X, train_y)\n",
    "# Make validation predictions and calculate mean absolute error\n",
    "val_predictions = iowa_model.predict(val_X)\n",
    "val_mae = mean_absolute_error(val_predictions, val_y)\n",
    "print(\"Validation MAE for Multiple LinearRegression: {:,.0f}\".format(val_mae))"
   ]
  },
  {
   "cell_type": "markdown",
   "metadata": {
    "id": "KRSis4SbcCaU"
   },
   "source": [
    "# Try with SVR and test against val_y "
   ]
  },
  {
   "cell_type": "code",
   "execution_count": 20,
   "metadata": {
    "colab": {
     "base_uri": "https://localhost:8080/"
    },
    "executionInfo": {
     "elapsed": 1997,
     "status": "ok",
     "timestamp": 1606232556981,
     "user": {
      "displayName": "George Ognyanov",
      "photoUrl": "https://lh3.googleusercontent.com/a-/AOh14GhH_pPA5BT-YZjKjvwBt48MYgD26ZC5xdv9PPY-mvg=s64",
      "userId": "12292690886225308336"
     },
     "user_tz": -120
    },
    "id": "xmGqzwy6cLT5",
    "outputId": "6b081791-c57b-492a-a9de-07844ea04def"
   },
   "outputs": [
    {
     "name": "stdout",
     "output_type": "stream",
     "text": [
      "Validation MAE for Multiple LinearRegression: 55,675\n"
     ]
    }
   ],
   "source": [
    "from sklearn.svm import SVR\n",
    "\n",
    "# Specify Model Multiple Linear Regression\n",
    "iowa_model = SVR(kernel = 'rbf')\n",
    "# Fit Model\n",
    "iowa_model.fit(train_X, train_y)\n",
    "# Make validation predictions and calculate mean absolute error\n",
    "val_predictions = iowa_model.predict(val_X)\n",
    "val_mae = mean_absolute_error(val_predictions, val_y)\n",
    "print(\"Validation MAE for Multiple LinearRegression: {:,.0f}\".format(val_mae))"
   ]
  },
  {
   "cell_type": "markdown",
   "metadata": {
    "id": "qSl5hBAsZ9FL"
   },
   "source": [
    "# Try with Decision Tree Regressor and test against *val_y*"
   ]
  },
  {
   "cell_type": "code",
   "execution_count": 21,
   "metadata": {
    "colab": {
     "base_uri": "https://localhost:8080/"
    },
    "executionInfo": {
     "elapsed": 1989,
     "status": "ok",
     "timestamp": 1606232556982,
     "user": {
      "displayName": "George Ognyanov",
      "photoUrl": "https://lh3.googleusercontent.com/a-/AOh14GhH_pPA5BT-YZjKjvwBt48MYgD26ZC5xdv9PPY-mvg=s64",
      "userId": "12292690886225308336"
     },
     "user_tz": -120
    },
    "id": "MO5eo8tmnkdM",
    "outputId": "18a4f985-195c-4b6b-e563-01e8d676a595"
   },
   "outputs": [
    {
     "name": "stdout",
     "output_type": "stream",
     "text": [
      "Validation MAE when not specifying max_leaf_nodes: 29,653\n"
     ]
    }
   ],
   "source": [
    "from sklearn.tree import DecisionTreeRegressor\n",
    "\n",
    "# Specify Model Decision Tree Regressor\n",
    "iowa_model = DecisionTreeRegressor(random_state=1)\n",
    "# Fit Model\n",
    "iowa_model.fit(train_X, train_y)\n",
    "# Make validation predictions and calculate mean absolute error\n",
    "val_predictions = iowa_model.predict(val_X)\n",
    "val_mae = mean_absolute_error(val_predictions, val_y)\n",
    "print(\"Validation MAE when not specifying max_leaf_nodes: {:,.0f}\".format(val_mae))"
   ]
  },
  {
   "cell_type": "markdown",
   "metadata": {
    "id": "6UmNr4hCdAeI"
   },
   "source": [
    "### Try with Decision Tree Regressor and max_leaf_nodes and test against val_y "
   ]
  },
  {
   "cell_type": "code",
   "execution_count": 22,
   "metadata": {
    "colab": {
     "base_uri": "https://localhost:8080/"
    },
    "executionInfo": {
     "elapsed": 1981,
     "status": "ok",
     "timestamp": 1606232556983,
     "user": {
      "displayName": "George Ognyanov",
      "photoUrl": "https://lh3.googleusercontent.com/a-/AOh14GhH_pPA5BT-YZjKjvwBt48MYgD26ZC5xdv9PPY-mvg=s64",
      "userId": "12292690886225308336"
     },
     "user_tz": -120
    },
    "id": "5Xzsf3Lbn3gC",
    "outputId": "be77bbf2-6b70-459b-860c-814f0f631594"
   },
   "outputs": [
    {
     "name": "stdout",
     "output_type": "stream",
     "text": [
      "Validation MAE for best value of max_leaf_nodes: 27,283\n"
     ]
    }
   ],
   "source": [
    "# Using best value for max_leaf_nodes\n",
    "iowa_model = DecisionTreeRegressor(max_leaf_nodes=100, random_state=1)\n",
    "# Fit Model\n",
    "iowa_model.fit(train_X, train_y)\n",
    "# Make validation predictions and calculate mean absolute error\n",
    "val_predictions = iowa_model.predict(val_X)\n",
    "val_mae = mean_absolute_error(val_predictions, val_y)\n",
    "print(\"Validation MAE for best value of max_leaf_nodes: {:,.0f}\".format(val_mae))"
   ]
  },
  {
   "cell_type": "markdown",
   "metadata": {
    "id": "6djNX8ozmHXd"
   },
   "source": [
    "# Try with Random Forest Regressor and test against val_y "
   ]
  },
  {
   "cell_type": "code",
   "execution_count": 23,
   "metadata": {
    "colab": {
     "base_uri": "https://localhost:8080/"
    },
    "executionInfo": {
     "elapsed": 2805,
     "status": "ok",
     "timestamp": 1606232557815,
     "user": {
      "displayName": "George Ognyanov",
      "photoUrl": "https://lh3.googleusercontent.com/a-/AOh14GhH_pPA5BT-YZjKjvwBt48MYgD26ZC5xdv9PPY-mvg=s64",
      "userId": "12292690886225308336"
     },
     "user_tz": -120
    },
    "id": "6aG5jM2vn36m",
    "outputId": "02c6bbe9-e4af-4bbf-8670-564dfd9eaed6"
   },
   "outputs": [
    {
     "name": "stdout",
     "output_type": "stream",
     "text": [
      "Validation MAE for Random Forest Model: 21,857\n"
     ]
    }
   ],
   "source": [
    "from sklearn.ensemble import RandomForestRegressor\n",
    "\n",
    "# Define the model. Set random_state to 1\n",
    "rf_model = RandomForestRegressor(random_state=1)\n",
    "rf_model.fit(train_X, train_y)\n",
    "rf_val_predictions = rf_model.predict(val_X)\n",
    "rf_val_mae = mean_absolute_error(rf_val_predictions, val_y)\n",
    "\n",
    "print(\"Validation MAE for Random Forest Model: {:,.0f}\".format(rf_val_mae))"
   ]
  },
  {
   "cell_type": "markdown",
   "metadata": {
    "id": "f1MgufPNdtJK"
   },
   "source": [
    "Ended up choosing the Random Forest Regressor to run on test.csv (actual ML part) based on the lowest MAE score from all models tested "
   ]
  },
  {
   "cell_type": "code",
   "execution_count": 24,
   "metadata": {
    "colab": {
     "base_uri": "https://localhost:8080/"
    },
    "executionInfo": {
     "elapsed": 2797,
     "status": "ok",
     "timestamp": 1606232557816,
     "user": {
      "displayName": "George Ognyanov",
      "photoUrl": "https://lh3.googleusercontent.com/a-/AOh14GhH_pPA5BT-YZjKjvwBt48MYgD26ZC5xdv9PPY-mvg=s64",
      "userId": "12292690886225308336"
     },
     "user_tz": -120
    },
    "id": "8rYqrUK5o7PV",
    "outputId": "1bfa0f1b-5e5d-4907-d0f1-1d3db4c47099"
   },
   "outputs": [
    {
     "data": {
      "text/plain": [
       "RandomForestRegressor(random_state=1)"
      ]
     },
     "execution_count": 24,
     "metadata": {},
     "output_type": "execute_result"
    }
   ],
   "source": [
    "# In previous code cell\n",
    "rf_model_on_full_data = RandomForestRegressor(random_state=1)\n",
    "rf_model_on_full_data.fit(X, y)"
   ]
  },
  {
   "cell_type": "code",
   "execution_count": 25,
   "metadata": {
    "executionInfo": {
     "elapsed": 3296,
     "status": "ok",
     "timestamp": 1606232558318,
     "user": {
      "displayName": "George Ognyanov",
      "photoUrl": "https://lh3.googleusercontent.com/a-/AOh14GhH_pPA5BT-YZjKjvwBt48MYgD26ZC5xdv9PPY-mvg=s64",
      "userId": "12292690886225308336"
     },
     "user_tz": -120
    },
    "id": "t7n_2joDn9vp"
   },
   "outputs": [],
   "source": [
    "# Then in last code cell\n",
    "test_data_path = '/home/ubuntu/pCloudDrive/18.Kaggle microcourses/00.Kaggle micro-courses/07.Intro to Machine Learning/01.Kaggle Playground Competition: Housing Prices/home-data-for-ml-course/test.csv'\n",
    "test_data = pd.read_csv(test_data_path)\n",
    "\n",
    "test_X = test_data[features]\n",
    "test_preds = rf_model_on_full_data.predict(test_X)\n"
   ]
  },
  {
   "cell_type": "markdown",
   "metadata": {
    "id": "PkkZQznVndaA"
   },
   "source": [
    "# Prepare for competition submission "
   ]
  },
  {
   "cell_type": "code",
   "execution_count": 26,
   "metadata": {
    "executionInfo": {
     "elapsed": 3295,
     "status": "ok",
     "timestamp": 1606232558319,
     "user": {
      "displayName": "George Ognyanov",
      "photoUrl": "https://lh3.googleusercontent.com/a-/AOh14GhH_pPA5BT-YZjKjvwBt48MYgD26ZC5xdv9PPY-mvg=s64",
      "userId": "12292690886225308336"
     },
     "user_tz": -120
    },
    "id": "NFv82xaenUTX"
   },
   "outputs": [],
   "source": [
    "# Save the predictions made on the test.csv for competition submission \n",
    "output = pd.DataFrame({'Id': test_data.Id, 'SalePrice': test_preds})\n",
    "output.to_csv('/home/ubuntu/pCloudDrive/18.Kaggle microcourses/00.Kaggle micro-courses/07.Intro to Machine Learning/01.Kaggle Playground Competition: Housing Prices/submission.csv', index=False)"
   ]
  }
 ],
 "metadata": {
  "colab": {
   "authorship_tag": "ABX9TyNLt57T2Ll/MAmYwnbmxR+L",
   "collapsed_sections": [],
   "name": "1.Housing Prices Competition for Kaggle Learn Users.ipynb",
   "provenance": [],
   "toc_visible": true
  },
  "kernelspec": {
   "display_name": "Python 3",
   "language": "python",
   "name": "python3"
  },
  "language_info": {
   "codemirror_mode": {
    "name": "ipython",
    "version": 3
   },
   "file_extension": ".py",
   "mimetype": "text/x-python",
   "name": "python",
   "nbconvert_exporter": "python",
   "pygments_lexer": "ipython3",
   "version": "3.8.5"
  }
 },
 "nbformat": 4,
 "nbformat_minor": 4
}
